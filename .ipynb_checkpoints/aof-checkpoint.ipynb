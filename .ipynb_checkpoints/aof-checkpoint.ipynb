{
 "cells": [
  {
   "cell_type": "markdown",
   "id": "2e3bdf64",
   "metadata": {},
   "source": [
    "# Advent of code\n",
    "## Day 1\n",
    "\n",
    "### Part1"
   ]
  },
  {
   "cell_type": "code",
   "execution_count": 91,
   "id": "025c6b81",
   "metadata": {},
   "outputs": [
    {
     "data": {
      "text/plain": [
       "1624"
      ]
     },
     "execution_count": 91,
     "metadata": {},
     "output_type": "execute_result"
    }
   ],
   "source": [
    "#with open(\"day1.txt\") as file:\n",
    "#    data = [int(line.strip()) for line in file]\n",
    "\n",
    "with open(\"day1.txt\") as file:\n",
    "    data = []\n",
    "    for line in file:\n",
    "        if str(line.strip()).isdigit():\n",
    "            data.append(int(line.strip()))\n",
    "            \n",
    "data_boolean = [1 if data[i] < data[i+1] else 0 for i in range(0,len(data)-1)]\n",
    "sum(data_boolean)"
   ]
  },
  {
   "cell_type": "markdown",
   "id": "efe33044",
   "metadata": {},
   "source": [
    "### Part2"
   ]
  },
  {
   "cell_type": "code",
   "execution_count": 92,
   "id": "48b17966",
   "metadata": {},
   "outputs": [
    {
     "data": {
      "text/plain": [
       "1653"
      ]
     },
     "execution_count": 92,
     "metadata": {},
     "output_type": "execute_result"
    }
   ],
   "source": [
    "data_boolean2 = [1 if data[i]+data[i+1]+data[i+2] < data[i+1]+data[i+2]+data[i+3] else 0 for i in range(0,len(data)-3)]\n",
    "sum(data_boolean2)"
   ]
  },
  {
   "cell_type": "markdown",
   "id": "a2ff9d0b",
   "metadata": {},
   "source": [
    "## Day 2\n",
    "### Part1"
   ]
  },
  {
   "cell_type": "code",
   "execution_count": 1,
   "id": "7fcfe812",
   "metadata": {},
   "outputs": [
    {
     "data": {
      "text/plain": [
       "1938402"
      ]
     },
     "execution_count": 1,
     "metadata": {},
     "output_type": "execute_result"
    }
   ],
   "source": [
    "data = {\"forward\":0, \"down\":0, \"up\":0}\n",
    "\n",
    "with open(\"day2.txt\") as file:\n",
    "    for line in file:\n",
    "        key, value = line.split()\n",
    "        if str(value).isdigit() and key in [\"forward\", \"down\", \"up\"]:\n",
    "            data[key] += int(value)\n",
    "        \n",
    "(data['down']-data['up'])*data['forward']"
   ]
  },
  {
   "cell_type": "markdown",
   "id": "7084790a",
   "metadata": {},
   "source": [
    "### Part2"
   ]
  },
  {
   "cell_type": "code",
   "execution_count": 21,
   "id": "6dbafac2",
   "metadata": {},
   "outputs": [
    {
     "data": {
      "text/plain": [
       "1947878632"
      ]
     },
     "execution_count": 21,
     "metadata": {},
     "output_type": "execute_result"
    }
   ],
   "source": [
    "aim, forward, depth = 0, 0, 0\n",
    "with open(\"day2.txt\") as file:\n",
    "    for line in file:\n",
    "        key, value = line.split()\n",
    "        if key == \"forward\":\n",
    "            forward += int(value)\n",
    "            depth += int(value)*aim\n",
    "        elif key == \"down\":\n",
    "            aim += int(value)\n",
    "        else:\n",
    "            aim-=int(value)\n",
    "depth*forward"
   ]
  },
  {
   "cell_type": "markdown",
   "id": "f61bf551",
   "metadata": {},
   "source": [
    "## Day3\n",
    "### Part1"
   ]
  },
  {
   "cell_type": "code",
   "execution_count": 66,
   "id": "9cb2aea7",
   "metadata": {},
   "outputs": [
    {
     "data": {
      "text/plain": [
       "3958484"
      ]
     },
     "execution_count": 66,
     "metadata": {},
     "output_type": "execute_result"
    }
   ],
   "source": [
    "import numpy as np\n",
    "\n",
    "with open('day3.txt') as file:\n",
    "    first_line = file.readline()\n",
    "    delimiter_array = [1 for x in range(1, len(first_line))]\n",
    "    \n",
    "arr = np.genfromtxt(\"day3.txt\", delimiter=delimiter_array,  dtype=('int', '<i8'))\n",
    "arr = np.rot90(arr,3)\n",
    "\n",
    "\n",
    "gamma_base2 = [sum(x)>(arr.shape[1]/2) for x in arr]\n",
    "epsilon_base2 = [not x for x in gamma_base2]\n",
    "\n",
    "gamma_base10 = int(\"\".join(map(lambda x: x and '1' or '0',gamma_base2)),2)\n",
    "epsilon_base10  = int(\"\".join(map(lambda x: x and '1' or '0',epsilon_base2)),2)\n",
    "\n",
    "gamma_base10*epsilon_base10"
   ]
  },
  {
   "cell_type": "code",
   "execution_count": 67,
   "id": "8e9cc303",
   "metadata": {},
   "outputs": [],
   "source": [
    "with open('day3.txt') as file:\n",
    "    first_line = file.readline()\n",
    "    delimiter_array = [1 for x in range(1, len(first_line))]\n",
    "    \n",
    "arr = np.genfromtxt(\"day3.txt\", delimiter=delimiter_array,  dtype=('int', '<i8'))\n",
    "\n",
    "i=0\n",
    "for x in len()"
   ]
  },
  {
   "cell_type": "code",
   "execution_count": null,
   "id": "b5967959",
   "metadata": {},
   "outputs": [],
   "source": []
  }
 ],
 "metadata": {
  "kernelspec": {
   "display_name": "Python 3 (ipykernel)",
   "language": "python",
   "name": "python3"
  },
  "language_info": {
   "codemirror_mode": {
    "name": "ipython",
    "version": 3
   },
   "file_extension": ".py",
   "mimetype": "text/x-python",
   "name": "python",
   "nbconvert_exporter": "python",
   "pygments_lexer": "ipython3",
   "version": "3.8.10"
  }
 },
 "nbformat": 4,
 "nbformat_minor": 5
}
