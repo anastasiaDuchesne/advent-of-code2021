{
 "cells": [
  {
   "cell_type": "markdown",
   "id": "2e3bdf64",
   "metadata": {},
   "source": [
    "# Advent of code\n",
    "## Day 1\n",
    "\n",
    "### Part1"
   ]
  },
  {
   "cell_type": "code",
   "execution_count": 261,
   "id": "025c6b81",
   "metadata": {},
   "outputs": [
    {
     "data": {
      "text/plain": [
       "1624"
      ]
     },
     "execution_count": 261,
     "metadata": {},
     "output_type": "execute_result"
    }
   ],
   "source": [
    "with open(\"input/day1.txt\") as file:\n",
    "    data = [int(line.strip()) for line in file if str(line.strip()).isdigit()]\n",
    "    \n",
    "data_boolean = [1 if data[i] < data[i+1] else 0 for i in range(0,len(data)-1)]\n",
    "sum(data_boolean)"
   ]
  },
  {
   "cell_type": "markdown",
   "id": "efe33044",
   "metadata": {},
   "source": [
    "### Part2"
   ]
  },
  {
   "cell_type": "code",
   "execution_count": 262,
   "id": "48b17966",
   "metadata": {},
   "outputs": [
    {
     "data": {
      "text/plain": [
       "1653"
      ]
     },
     "execution_count": 262,
     "metadata": {},
     "output_type": "execute_result"
    }
   ],
   "source": [
    "data_boolean2 = [1 if data[i]+data[i+1]+data[i+2] < data[i+1]+data[i+2]+data[i+3] else 0 for i in range(0,len(data)-3)]\n",
    "sum(data_boolean2)"
   ]
  },
  {
   "cell_type": "markdown",
   "id": "a2ff9d0b",
   "metadata": {},
   "source": [
    "## Day 2\n",
    "### Part1"
   ]
  },
  {
   "cell_type": "code",
   "execution_count": 263,
   "id": "7fcfe812",
   "metadata": {},
   "outputs": [
    {
     "data": {
      "text/plain": [
       "1938402"
      ]
     },
     "execution_count": 263,
     "metadata": {},
     "output_type": "execute_result"
    }
   ],
   "source": [
    "data = {\"forward\":0, \"down\":0, \"up\":0}\n",
    "\n",
    "with open(\"input/day2.txt\") as file:\n",
    "    for line in file:\n",
    "        key, value = line.split()\n",
    "        if str(value).isdigit() and key in [\"forward\", \"down\", \"up\"]:\n",
    "            data[key] += int(value)\n",
    "        \n",
    "(data['down']-data['up'])*data['forward']"
   ]
  },
  {
   "cell_type": "markdown",
   "id": "7084790a",
   "metadata": {},
   "source": [
    "### Part2"
   ]
  },
  {
   "cell_type": "code",
   "execution_count": 264,
   "id": "6dbafac2",
   "metadata": {},
   "outputs": [
    {
     "data": {
      "text/plain": [
       "1947878632"
      ]
     },
     "execution_count": 264,
     "metadata": {},
     "output_type": "execute_result"
    }
   ],
   "source": [
    "aim, forward, depth = 0, 0, 0\n",
    "with open(\"input/day2.txt\") as file:\n",
    "    for line in file:\n",
    "        key, value = line.split()\n",
    "        if key == \"forward\":\n",
    "            forward += int(value)\n",
    "            depth += int(value)*aim\n",
    "        elif key == \"down\":\n",
    "            aim += int(value)\n",
    "        else:\n",
    "            aim-=int(value)\n",
    "depth*forward"
   ]
  },
  {
   "cell_type": "markdown",
   "id": "73c3bcf9",
   "metadata": {},
   "source": [
    "## Day3\n",
    "### Part1"
   ]
  },
  {
   "cell_type": "code",
   "execution_count": 267,
   "id": "c4b5fde3",
   "metadata": {},
   "outputs": [
    {
     "data": {
      "text/plain": [
       "3958484"
      ]
     },
     "execution_count": 267,
     "metadata": {},
     "output_type": "execute_result"
    }
   ],
   "source": [
    "import numpy as np\n",
    "\n",
    "with open('input/day3.txt') as file:\n",
    "    first_line = file.readline()\n",
    "    delimiter_array = [1 for x in range(1, len(first_line))]\n",
    "    \n",
    "data = np.genfromtxt(\"input/day3.txt\", delimiter=delimiter_array,  dtype=('int', '<i8'))\n",
    "arr = np.rot90(data,3)\n",
    "\n",
    "gamma_base2 = [sum(x)>(arr.shape[1]/2) for x in arr]\n",
    "epsilon_base2 = [not x for x in gamma_base2]\n",
    "\n",
    "gamma_base10 = int(\"\".join(map(lambda x: x and '1' or '0',gamma_base2)),2)\n",
    "epsilon_base10  = int(\"\".join(map(lambda x: x and '1' or '0',epsilon_base2)),2)\n",
    "\n",
    "gamma_base10*epsilon_base10"
   ]
  },
  {
   "cell_type": "markdown",
   "id": "854d8842",
   "metadata": {},
   "source": [
    "### Part2"
   ]
  },
  {
   "cell_type": "code",
   "execution_count": 268,
   "id": "7b780d54",
   "metadata": {},
   "outputs": [
    {
     "data": {
      "text/plain": [
       "1613181"
      ]
     },
     "execution_count": 268,
     "metadata": {},
     "output_type": "execute_result"
    }
   ],
   "source": [
    "data_ox = data[np.in1d(data[:,0], gamma_base2[0])]\n",
    "data_co2 = data[np.in1d(data[:,0], not gamma_base2[0])]\n",
    "\n",
    "for i in range(1, len(first_line)-1):\n",
    "    arr_ox = np.rot90(data_ox,3)\n",
    "    arr_co2 = np.rot90(data_co2,3)\n",
    "    bit_ox = int(sum(arr_ox[i])>=arr_ox.shape[1]/2)\n",
    "    bit_co2 = int(sum(arr_co2[i])<arr_co2.shape[1]/2)\n",
    "    if (len(data_ox)>1):\n",
    "        data_ox = data_ox[np.in1d(data_ox[:,i], bit_ox)]\n",
    "\n",
    "    if (len(data_co2)>1):\n",
    "        data_co2 = data_co2[np.in1d(data_co2[:,i], bit_co2)]\n",
    "\n",
    "ox = int(\"\".join(map(lambda x: x and '1' or '0',data_ox[0])),2)\n",
    "co2 = int(\"\".join(map(lambda x: x and '1' or '0',data_co2[0])),2)\n",
    "\n",
    "ox*co2"
   ]
  },
  {
   "cell_type": "markdown",
   "id": "253157f5",
   "metadata": {},
   "source": [
    "## Day4\n",
    "### Part1\n"
   ]
  },
  {
   "cell_type": "code",
   "execution_count": 269,
   "id": "5c619169",
   "metadata": {},
   "outputs": [
    {
     "data": {
      "text/plain": [
       "11536"
      ]
     },
     "execution_count": 269,
     "metadata": {},
     "output_type": "execute_result"
    }
   ],
   "source": [
    "import itertools\n",
    "import numpy as np\n",
    "import copy\n",
    "\n",
    "with open('input/day4.txt') as file:\n",
    "    bingo_numbers = list(map(int, file.readline().split(\",\")))\n",
    "    bingo_grids = [np.array([np.array(x.split()) for x in list(next_5_lines) if len(x.split())>0]) for next_5_lines in itertools.zip_longest(*[file]*6)]\n",
    "\n",
    "winner = False\n",
    "result = 0\n",
    "\n",
    "for nb in bingo_numbers:\n",
    "    for i, grid in enumerate(bingo_grids):\n",
    "        grid[grid == str(nb)] = 'x'\n",
    "        row = np.where((grid==['x','x','x','x','x']).all(axis=1))[0]\n",
    "        col = np.where((np.rot90(grid, 3) == ['x','x','x','x','x']).all(axis=1))[0]\n",
    "        if (len(row) > 0 or len(col) > 0):\n",
    "            winner = True\n",
    "            break\n",
    "   \n",
    "    if winner:\n",
    "        for line in grid:\n",
    "            result += sum([int(x) for x in line if x!='x'])\n",
    "        break\n",
    "        \n",
    "result*nb\n"
   ]
  },
  {
   "cell_type": "markdown",
   "id": "a1659fe2",
   "metadata": {},
   "source": [
    "### Part2"
   ]
  },
  {
   "cell_type": "code",
   "execution_count": 270,
   "id": "16dda464",
   "metadata": {},
   "outputs": [
    {
     "data": {
      "text/plain": [
       "1284"
      ]
     },
     "execution_count": 270,
     "metadata": {},
     "output_type": "execute_result"
    }
   ],
   "source": [
    "import itertools\n",
    "import numpy as np\n",
    "import copy\n",
    "\n",
    "with open('input/day4.txt') as file:\n",
    "    bingo_numbers = list(map(int, file.readline().split(\",\")))\n",
    "    bingo_grids = [np.array([np.array(x.split()) for x in list(next_5_lines) if len(x.split())>0]) for next_5_lines in itertools.zip_longest(*[file]*6)]\n",
    "\n",
    "winner = False\n",
    "result = 0\n",
    "\n",
    "for nb in bingo_numbers:    \n",
    "    winners = [x for x in range(0, len(bingo_grids)-1)]\n",
    "    \n",
    "    for i, grid in enumerate(bingo_grids):\n",
    "        grid[grid == str(nb)] = 'x'\n",
    "        row = np.where((grid==['x','x','x','x','x']).all(axis=1))[0]\n",
    "        col = np.where((np.rot90(grid, 3) == ['x','x','x','x','x']).all(axis=1))[0]\n",
    "        if (len(row) > 0 or len(col) > 0):\n",
    "            if len(winners)> 1:\n",
    "                winners.pop()\n",
    "                bingo_grids.pop(i)\n",
    "            else:\n",
    "                winner = True\n",
    "                break\n",
    "   \n",
    "            \n",
    "    if winner:\n",
    "        for line in grid:\n",
    "            result += sum([int(x) for x in line if x!='x'])\n",
    "        break\n",
    "        \n",
    "result*nb"
   ]
  },
  {
   "cell_type": "markdown",
   "id": "2eb9bd52",
   "metadata": {},
   "source": [
    "## Day5\n",
    "### Part1"
   ]
  },
  {
   "cell_type": "code",
   "execution_count": 100,
   "id": "d849005a",
   "metadata": {},
   "outputs": [
    {
     "data": {
      "text/plain": [
       "5373"
      ]
     },
     "execution_count": 100,
     "metadata": {},
     "output_type": "execute_result"
    }
   ],
   "source": [
    "with open('input/day5.txt') as file:\n",
    "    coords = [[int(x) for x in line.replace(\"->\", \",\").split(\",\")] for line in file]\n",
    "\n",
    "arr = np.zeros((np.amax(coords)+1, np.amax(coords)+1)).astype(int)\n",
    "\n",
    "for x in coords:\n",
    "    if x[0] == x[2]:\n",
    "        for i in range(min(x[1], x[3]), max(x[1], x[3])+1):\n",
    "            arr[i][x[0]]+=1\n",
    "            \n",
    "    if x[1] == x[3]:\n",
    "        for i in range(min(x[0], x[2]), max(x[0], x[2])+1):\n",
    "            arr[x[1]][i]+=1\n",
    "\n",
    "len(arr[arr >=2])\n"
   ]
  },
  {
   "cell_type": "markdown",
   "id": "40542e63",
   "metadata": {},
   "source": [
    "### Part2"
   ]
  },
  {
   "cell_type": "code",
   "execution_count": 101,
   "id": "6334cdf6",
   "metadata": {},
   "outputs": [
    {
     "data": {
      "text/plain": [
       "21514"
      ]
     },
     "execution_count": 101,
     "metadata": {},
     "output_type": "execute_result"
    }
   ],
   "source": [
    "with open('input/day5.txt') as file:\n",
    "    coords = [[int(x) for x in line.replace(\"->\", \",\").split(\",\")] for line in file]\n",
    "\n",
    "arr = np.zeros((np.amax(coords)+1, np.amax(coords)+1)).astype(int)\n",
    "\n",
    "for x in coords:\n",
    "    if x[0] == x[2]:\n",
    "        for i in range(min(x[1], x[3]), max(x[1], x[3])+1):\n",
    "            arr[i][x[0]]+=1\n",
    "            \n",
    "    elif x[1] == x[3]:\n",
    "        for i in range(min(x[0], x[2]), max(x[0], x[2])+1):\n",
    "            arr[x[1]][i]+=1\n",
    "    else:\n",
    "        \n",
    "        signdiag1 = np.sign(x[2]-x[0])\n",
    "        signdiag2 = np.sign(x[3]-x[1])\n",
    "    \n",
    "        diag1 = range(x[0], x[2]+signdiag1, int(signdiag1))\n",
    "        diag2 = range(x[1], x[3]+signdiag2, int(signdiag2))\n",
    "        \n",
    "        for i in range(0, len(diag1)):\n",
    "            arr[diag2[i], diag1[i]]+=1\n",
    "\n",
    "len(arr[arr >=2])"
   ]
  },
  {
   "cell_type": "markdown",
   "id": "d5f3615c",
   "metadata": {},
   "source": [
    "## Day6\n",
    "### Part1 & Part2"
   ]
  },
  {
   "cell_type": "code",
   "execution_count": 52,
   "id": "124092d2",
   "metadata": {},
   "outputs": [],
   "source": [
    "def add_or_update_dict(data, nb, k):\n",
    "    if nb in data:\n",
    "        data[nb]+=k\n",
    "    else:\n",
    "        data[nb]=k\n",
    "\n",
    "def compute_hatching(data, step):\n",
    "    new_data = {}\n",
    "    for item in data.items():\n",
    "        if item[0]<step:\n",
    "            count = 7-(step-item[0])\n",
    "            add_or_update_dict(new_data, count, item[1])\n",
    "            \n",
    "            new_count = item[0]+(9-step)\n",
    "            add_or_update_dict(new_data, new_count, item[1])\n",
    "\n",
    "        else:\n",
    "            count = item[0]-step\n",
    "            add_or_update_dict(new_data, count, item[1])\n",
    "            \n",
    "    return  new_data"
   ]
  },
  {
   "cell_type": "code",
   "execution_count": 53,
   "id": "e5e24596",
   "metadata": {},
   "outputs": [
    {
     "data": {
      "text/plain": [
       "1733403626279"
      ]
     },
     "execution_count": 53,
     "metadata": {},
     "output_type": "execute_result"
    }
   ],
   "source": [
    "with open(\"input/day6.txt\") as file:\n",
    "    data = {}\n",
    "    for x in file.readline().strip(\",\"):\n",
    "        if str(x).isdigit():\n",
    "            add_or_update_dict(data, int(x), 1)\n",
    "\n",
    "nb_days = 256\n",
    "step = 7\n",
    "quotient = nb_days//step\n",
    "remainder = nb_days%step\n",
    "\n",
    "days = [x*step for x in range(1, quotient+1)]\n",
    "\n",
    "for _ in days:\n",
    "    data = compute_hatching(data, step)\n",
    "    \n",
    "last_step_data = compute_hatching(data, remainder)\n",
    "\n",
    "sum(list(last_step_data.values()))"
   ]
  },
  {
   "cell_type": "markdown",
   "id": "9aaa285f",
   "metadata": {},
   "source": [
    "## Day7\n",
    "### Part 1"
   ]
  },
  {
   "cell_type": "code",
   "execution_count": 160,
   "id": "e87234a7",
   "metadata": {},
   "outputs": [
    {
     "data": {
      "text/plain": [
       "348996.0"
      ]
     },
     "execution_count": 160,
     "metadata": {},
     "output_type": "execute_result"
    }
   ],
   "source": [
    "import statistics\n",
    "with open(\"input/day7.txt\") as file:\n",
    "    data = [int(x) for x in file.readline().strip().split(\",\") if str(x.isdigit())]\n",
    "\n",
    "median = statistics.median(data)\n",
    "sum([abs(x-median) for x in data])"
   ]
  },
  {
   "cell_type": "markdown",
   "id": "b3b221f9",
   "metadata": {},
   "source": [
    "### Part 2"
   ]
  },
  {
   "cell_type": "code",
   "execution_count": 159,
   "id": "68ff5ff8",
   "metadata": {},
   "outputs": [
    {
     "data": {
      "text/plain": [
       "98231647.0"
      ]
     },
     "execution_count": 159,
     "metadata": {},
     "output_type": "execute_result"
    }
   ],
   "source": [
    "import math\n",
    "\n",
    "with open(\"input/day7.txt\") as file:\n",
    "    data = [int(x) for x in file.readline().strip().split(\",\") if str(x.isdigit())]\n",
    "\n",
    "median = int(statistics.mean(data))\n",
    "sum([abs(x-median)*(abs(x-median)+1)/2 for x in data])"
   ]
  },
  {
   "cell_type": "markdown",
   "id": "77084192",
   "metadata": {},
   "source": [
    "## Day8\n",
    "### Part1"
   ]
  },
  {
   "cell_type": "code",
   "execution_count": 327,
   "id": "30cdc31a",
   "metadata": {},
   "outputs": [
    {
     "data": {
      "text/plain": [
       "416"
      ]
     },
     "execution_count": 327,
     "metadata": {},
     "output_type": "execute_result"
    }
   ],
   "source": [
    "with open(\"input/day8.txt\") as file:\n",
    "    result = len([x for digit in [line.strip().split('|')[1].split() for line in file] for x in digit if len(x) in [2, 3, 4, 7]])\n",
    "\n",
    "result      "
   ]
  },
  {
   "cell_type": "markdown",
   "id": "24a0beeb",
   "metadata": {},
   "source": [
    "### Part2"
   ]
  },
  {
   "cell_type": "code",
   "execution_count": 325,
   "id": "f4516b67",
   "metadata": {},
   "outputs": [],
   "source": [
    "def digits_diff(digit, digit_to_compare):\n",
    "    return list(set(digit).difference(digit_to_compare)) + list(set(digit_to_compare).difference(digit))\n",
    "    \n",
    "def find_unique_digits(data, digits):\n",
    "    unique_digits = {2:1, 3:7, 4:4, 7:8}\n",
    "    \n",
    "    for digit in data:\n",
    "        if len(digit) in unique_digits.keys():\n",
    "            digits[unique_digits[len(digit)]] = list(digit)\n",
    "\n",
    "def find_non_unique_digits(data, digits):\n",
    "    for digit in data:\n",
    "        if len(digit) == 5:\n",
    "            if len(digits_diff(digit, digits[7])) == 2:\n",
    "                digits[3] = list(digit)\n",
    "            elif len(digits_diff(digit, digits_diff(digits[4], digits[1]))) == 3:\n",
    "                digits[5] = list(digit)\n",
    "            else:\n",
    "                digits[2] = list(digit)\n",
    "        \n",
    "        if len(digit) == 6:\n",
    "            if len(digits_diff(digit, digits[4])) == 2:\n",
    "                digits[9] = list(digit)\n",
    "            elif len(digits_diff(digit, digits_diff(digits[4], digits[1]))) == 4:\n",
    "                digits[6] = list(digit)\n",
    "            else:\n",
    "                digits[0] = list(digit)\n",
    "                \n",
    "def sum_of_output(data, digits):\n",
    "    digits_inv = {''.join(sorted(v)): k for k, v in digits.items()}\n",
    "    result = ''\n",
    "    \n",
    "    for digit in data:\n",
    "        result += str(digits_inv[''.join(sorted(list(digit)))])\n",
    "    \n",
    "    return result"
   ]
  },
  {
   "cell_type": "code",
   "execution_count": 326,
   "id": "a97165eb",
   "metadata": {},
   "outputs": [
    {
     "data": {
      "text/plain": [
       "1043697"
      ]
     },
     "execution_count": 326,
     "metadata": {},
     "output_type": "execute_result"
    }
   ],
   "source": [
    "with open(\"input/day8.txt\") as file:\n",
    "    data = [[x.strip().split() for x in line.strip().split('|')] for line in file]\n",
    "\n",
    "result = 0\n",
    "\n",
    "for digits_set in data:\n",
    "    digits = {x: [] for x in range(10)}\n",
    "    find_unique_digits(digits_set[0], digits)\n",
    "    find_non_unique_digits(digits_set[0], digits)\n",
    "    result += int(sum_of_output(digits_set[1], digits))\n",
    "    \n",
    "result"
   ]
  },
  {
   "cell_type": "markdown",
   "id": "9c25017a",
   "metadata": {},
   "source": [
    "## Day 9\n",
    "### Part1"
   ]
  },
  {
   "cell_type": "code",
   "execution_count": 64,
   "id": "dbe694da",
   "metadata": {},
   "outputs": [],
   "source": [
    "import itertools\n",
    "with open(\"input/day9.txt\") as file:\n",
    "    first_line = [int(x) for x in file.readline().strip() if str(x).isdigit()]\n",
    "    tail = list(itertools.chain.from_iterable([list(map(int,list(line.strip()))) for line in file]))\n",
    "    data = first_line + tail\n",
    "    line_lenght = len(first_line)"
   ]
  },
  {
   "cell_type": "code",
   "execution_count": 66,
   "id": "77274dfe",
   "metadata": {},
   "outputs": [
    {
     "data": {
      "text/plain": [
       "603"
      ]
     },
     "execution_count": 66,
     "metadata": {},
     "output_type": "execute_result"
    }
   ],
   "source": [
    "highest_height_index = data.index(max(data))\n",
    "\n",
    "lowest_points = [height for i, height in enumerate(data) \n",
    "                if height < data[(i-1)*(i%line_lenght != 0) + highest_height_index*(i%line_lenght == 0)] \n",
    "                and height < data[(i+1)*(i%line_lenght != line_lenght - 1) + highest_height_index*(i%line_lenght == line_lenght - 1)]\n",
    "               and height < data[(i-line_lenght)*(i >= line_lenght) + highest_height_index*(i < line_lenght)]\n",
    "               and height < data[(i+line_lenght)*(i<len(data) - line_lenght) + highest_height_index*(i>=(len(data) - line_lenght))]]\n",
    "\n",
    "sum(lowest_points)+len(lowest_points)"
   ]
  },
  {
   "cell_type": "markdown",
   "id": "0c963d87",
   "metadata": {},
   "source": [
    "A more readable way to do part 1..."
   ]
  },
  {
   "cell_type": "code",
   "execution_count": 65,
   "id": "ea2bdeae",
   "metadata": {},
   "outputs": [
    {
     "data": {
      "text/plain": [
       "603"
      ]
     },
     "execution_count": 65,
     "metadata": {},
     "output_type": "execute_result"
    }
   ],
   "source": [
    "highest_height = max(data)\n",
    "lowest_points = 0\n",
    "lowest_points_indices = []\n",
    "\n",
    "for i, height in enumerate(data):\n",
    "    left = data[i-1] if i%line_lenght != 0 else highest_height\n",
    "    right = data[i+1] if i%line_lenght != line_lenght - 1 else highest_height \n",
    "    up = data[i-line_lenght] if i >= line_lenght else highest_height\n",
    "    down = data[i+line_lenght] if i < len(data) - line_lenght else highest_height\n",
    "    \n",
    "    if height < left and height < right and height < up and height < down:\n",
    "        lowest_points+=1+data[i]\n",
    "        lowest_points_indices.append(i)\n",
    "        \n",
    "lowest_points"
   ]
  },
  {
   "cell_type": "markdown",
   "id": "084e724d",
   "metadata": {},
   "source": [
    "## Part2"
   ]
  },
  {
   "cell_type": "code",
   "execution_count": 59,
   "id": "bc362d6d",
   "metadata": {},
   "outputs": [],
   "source": [
    "def look_adjacent_points(i, next_points):\n",
    "    if i%line_lenght != 0 and data[i-1] != 9 and (i-1) not in next_points:\n",
    "        next_points.append(i-1)\n",
    "    if i%line_lenght != line_lenght - 1 and data[i+1] != 9 and (i+1) not in next_points:\n",
    "        next_points.append(i+1)\n",
    "    if i >= line_lenght and data[i-line_lenght] !=9 and (i-line_lenght) not in next_points:\n",
    "        next_points.append(i-line_lenght)\n",
    "    if i < len(data) - line_lenght and data[i+line_lenght] and data[i+line_lenght]!=9 and (i+ line_lenght) not in next_points:\n",
    "        next_points.append(i+line_lenght)"
   ]
  },
  {
   "cell_type": "code",
   "execution_count": 61,
   "id": "d631a070",
   "metadata": {},
   "outputs": [
    {
     "data": {
      "text/plain": [
       "786780"
      ]
     },
     "execution_count": 61,
     "metadata": {},
     "output_type": "execute_result"
    }
   ],
   "source": [
    "basins = []\n",
    "for low_point in lowest_points_indices:\n",
    "    to_do = [low_point]\n",
    "    done = []\n",
    "    for index in to_do:\n",
    "        look_adjacent_points(index, to_do)\n",
    "        done.append(index)\n",
    "    \n",
    "    basins.append(done)\n",
    "    \n",
    "basins = sorted(basins,key=len, reverse=True)\n",
    "\n",
    "len(basins[0])*len(basins[1])*len(basins[2])"
   ]
  },
  {
   "cell_type": "markdown",
   "id": "73ce31a5",
   "metadata": {},
   "source": [
    "## Day 10\n",
    "### Part1"
   ]
  },
  {
   "cell_type": "code",
   "execution_count": 35,
   "id": "cf3f36a0",
   "metadata": {},
   "outputs": [
    {
     "name": "stdout",
     "output_type": "stream",
     "text": [
      "error >\n"
     ]
    }
   ],
   "source": [
    "symbols = {\n",
    "    \"(\":{\"closing\": \")\", \"points\": 3},\n",
    "    \"[\":{\"closing\": \"]\", \"points\": 57},\n",
    "    \"{\":{\"closing\": \"}\", \"points\": 1197},\n",
    "    \"<\":{\"closing\": \">\", \"points\": 25137}\n",
    "}\n",
    "\n",
    "closing = [d[\"closing\"] for d in symbols.values()]\n",
    "current_char = \"\"\n",
    "\n",
    "for chara in \"[({(<(())[]>[[{[]{<()<>>\":\n",
    "    if chara in symbols.keys():\n",
    "        current_char = chara\n",
    "    \n",
    "    elif chara in closing:\n",
    "        if symbols[current_char][\"closing\"] != chara:\n",
    "            print(\"error\", chara)"
   ]
  },
  {
   "cell_type": "code",
   "execution_count": 40,
   "id": "9c378918",
   "metadata": {},
   "outputs": [
    {
     "name": "stdout",
     "output_type": "stream",
     "text": [
      "processing... [\n"
     ]
    },
    {
     "ename": "AttributeError",
     "evalue": "'list' object has no attribute 'add'",
     "output_type": "error",
     "traceback": [
      "\u001b[0;31m---------------------------------------------------------------------------\u001b[0m",
      "\u001b[0;31mAttributeError\u001b[0m                            Traceback (most recent call last)",
      "\u001b[0;32m/tmp/ipykernel_49957/152667995.py\u001b[0m in \u001b[0;36m<module>\u001b[0;34m\u001b[0m\n\u001b[1;32m     17\u001b[0m         \u001b[0mprint\u001b[0m\u001b[0;34m(\u001b[0m\u001b[0;34m\"processing...\"\u001b[0m\u001b[0;34m,\u001b[0m \u001b[0mchara\u001b[0m\u001b[0;34m)\u001b[0m\u001b[0;34m\u001b[0m\u001b[0;34m\u001b[0m\u001b[0m\n\u001b[1;32m     18\u001b[0m         \u001b[0;32mif\u001b[0m \u001b[0mchara\u001b[0m \u001b[0;32mnot\u001b[0m \u001b[0;32min\u001b[0m \u001b[0msymbols\u001b[0m\u001b[0;34m.\u001b[0m\u001b[0mkeys\u001b[0m\u001b[0;34m(\u001b[0m\u001b[0;34m)\u001b[0m\u001b[0;34m:\u001b[0m\u001b[0;34m\u001b[0m\u001b[0;34m\u001b[0m\u001b[0m\n\u001b[0;32m---> 19\u001b[0;31m             \u001b[0mchars_to_close\u001b[0m\u001b[0;34m.\u001b[0m\u001b[0madd\u001b[0m\u001b[0;34m(\u001b[0m\u001b[0mchara\u001b[0m\u001b[0;34m)\u001b[0m\u001b[0;34m\u001b[0m\u001b[0;34m\u001b[0m\u001b[0m\n\u001b[0m\u001b[1;32m     20\u001b[0m         \u001b[0;32melse\u001b[0m\u001b[0;34m:\u001b[0m\u001b[0;34m\u001b[0m\u001b[0;34m\u001b[0m\u001b[0m\n\u001b[1;32m     21\u001b[0m             \u001b[0;32mif\u001b[0m \u001b[0msymbols\u001b[0m\u001b[0;34m[\u001b[0m\u001b[0mchara\u001b[0m\u001b[0;34m]\u001b[0m\u001b[0;34m[\u001b[0m\u001b[0;34m\"opening\"\u001b[0m\u001b[0;34m]\u001b[0m \u001b[0;34m!=\u001b[0m\u001b[0mcurrent_char\u001b[0m\u001b[0;34m:\u001b[0m\u001b[0;34m\u001b[0m\u001b[0;34m\u001b[0m\u001b[0m\n",
      "\u001b[0;31mAttributeError\u001b[0m: 'list' object has no attribute 'add'"
     ]
    }
   ],
   "source": [
    "symbols = {\n",
    "    \")\":{\"opening\": \"(\", \"points\": 3},\n",
    "    \"]\":{\"opening\": \"[\", \"points\": 57},\n",
    "    \"}\":{\"opening\": \"{\", \"points\": 1197},\n",
    "    \">\":{\"opening\": \"<\", \"points\": 25137}\n",
    "}\n",
    "\n",
    "\n",
    "with open(\"input/day10.txt\") as file:\n",
    "    data = [line.strip() for line in file]\n",
    "\n",
    "error_score = 0\n",
    "\n",
    "for line in data:\n",
    "    chars_to_close = []\n",
    "    for chara in line:\n",
    "        print(\"processing...\", chara)\n",
    "        if chara not in symbols.keys():\n",
    "            chars_to_close.add(chara)\n",
    "        else:\n",
    "            if symbols[chara][\"opening\"] !=current_char:\n",
    "                print(line)\n",
    "                print(\"chara\", chara, \"expected \", current_char)\n",
    "                error_score+=symbols[chara][\"points\"]\n",
    "                break\n",
    "\n",
    "error_score"
   ]
  },
  {
   "cell_type": "code",
   "execution_count": 28,
   "id": "6937b209",
   "metadata": {},
   "outputs": [
    {
     "data": {
      "text/plain": [
       "['[({(<(())[]>[[{[]{<()<>>',\n",
       " '[(()[<>])]({[<{<<[]>>(',\n",
       " '{([(<{}[<>[]}>{[]{[(<()>',\n",
       " '(((({<>}<{<{<>}{[]{[]{}',\n",
       " '[[<[([]))<([[{}[[()]]]',\n",
       " '[{[{({}]{}}([{[{{{}}([]',\n",
       " '{<[[]]>}<{[{[{[]{()[[[]',\n",
       " '[<(<(<(<{}))><([]([]()',\n",
       " '<{([([[(<>()){}]>(<<{{',\n",
       " '<{([{{}}[<[[[<>{}]]]>[]]']"
      ]
     },
     "execution_count": 28,
     "metadata": {},
     "output_type": "execute_result"
    }
   ],
   "source": [
    "\n"
   ]
  }
 ],
 "metadata": {
  "kernelspec": {
   "display_name": "Python 3 (ipykernel)",
   "language": "python",
   "name": "python3"
  },
  "language_info": {
   "codemirror_mode": {
    "name": "ipython",
    "version": 3
   },
   "file_extension": ".py",
   "mimetype": "text/x-python",
   "name": "python",
   "nbconvert_exporter": "python",
   "pygments_lexer": "ipython3",
   "version": "3.8.10"
  }
 },
 "nbformat": 4,
 "nbformat_minor": 5
}
